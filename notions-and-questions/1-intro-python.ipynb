{
 "cells": [
  {
   "cell_type": "code",
   "execution_count": 1,
   "id": "cardiac-proceeding",
   "metadata": {},
   "outputs": [],
   "source": [
    "import pandas as pd\n",
    "import numpy as np"
   ]
  },
  {
   "cell_type": "code",
   "execution_count": 2,
   "id": "annoying-hormone",
   "metadata": {},
   "outputs": [],
   "source": [
    "baseball = pd.read_csv('/media/joaocarvoli/hd/my-data-sets/MLB(baseball)')\n",
    "fifa = pd.read_csv('/media/joaocarvoli/hd/my-data-sets/FIFA(soccer)')"
   ]
  },
  {
   "cell_type": "code",
   "execution_count": 4,
   "id": "enhanced-ballet",
   "metadata": {},
   "outputs": [
    {
     "name": "stdout",
     "output_type": "stream",
     "text": [
      "(8847, 19)\n",
      "<bound method NDFrame.head of           id                     name   rating  position   height    foot  \\\n",
      "0       1001           GÃ¡bor KirÃ¡ly       69        GK      191   Right   \n",
      "1     100143             Frederik Boi       65         M      184   Right   \n",
      "2     100264          Tomasz Szewczuk       57         A      185   Right   \n",
      "3     100325   Steeve Joseph-Reinette       63         D      180    Left   \n",
      "4     100326             Kamel Chafni       72         M      181   Right   \n",
      "...      ...                      ...      ...       ...      ...     ...   \n",
      "8842    9801          Danijel Ljuboja       73         A      189    Left   \n",
      "8843    9805            Craig Bellamy       79         A      175   Right   \n",
      "8844    9807            Michel Breuer       68         D      183   Right   \n",
      "8845    9815              Gill Swerts       65         D      179   Right   \n",
      "8846    9913              Mehdi Nafti       69         M      179   Right   \n",
      "\n",
      "       rare  pace  shooting  passing  dribbling  defending  heading  diving  \\\n",
      "0         0                                                              70   \n",
      "1         0    61        65       63         59         62       62           \n",
      "2         0    65        54       43         53         55       74           \n",
      "3         0    68        38       51         46         64       71           \n",
      "4         0    75        64       67         72         57       66           \n",
      "...     ...   ...       ...      ...        ...        ...      ...     ...   \n",
      "8842      1    62        73       64         74         56       68           \n",
      "8843      0    80        78       67         81         62       71           \n",
      "8844      0    61        40       56         51         70       74           \n",
      "8845      0    65        48       63         65         67       69           \n",
      "8846      0    55        56       64         65         69       60           \n",
      "\n",
      "      handling  kicking  reflexes  speed   positioning  \n",
      "0           66       63        74     35          66.0  \n",
      "1                                                  NaN  \n",
      "2                                                  NaN  \n",
      "3                                                  NaN  \n",
      "4                                                  NaN  \n",
      "...        ...      ...       ...    ...           ...  \n",
      "8842                                               NaN  \n",
      "8843                                               NaN  \n",
      "8844                                               NaN  \n",
      "8845                                               NaN  \n",
      "8846                                               NaN  \n",
      "\n",
      "[8847 rows x 19 columns]>\n"
     ]
    }
   ],
   "source": [
    "print(fifa.shape)\n",
    "print(fifa.head)"
   ]
  },
  {
   "cell_type": "code",
   "execution_count": 6,
   "id": "distinct-doctrine",
   "metadata": {},
   "outputs": [
    {
     "data": {
      "text/plain": [
       "id                int64\n",
       " name            object\n",
       " rating           int64\n",
       " position        object\n",
       " height           int64\n",
       " foot            object\n",
       " rare             int64\n",
       " pace            object\n",
       " shooting        object\n",
       " passing         object\n",
       " dribbling       object\n",
       " defending       object\n",
       " heading         object\n",
       " diving          object\n",
       " handling        object\n",
       " kicking         object\n",
       " reflexes        object\n",
       " speed           object\n",
       " positioning    float64\n",
       "dtype: object"
      ]
     },
     "execution_count": 6,
     "metadata": {},
     "output_type": "execute_result"
    }
   ],
   "source": [
    "fifa.dtypes"
   ]
  }
 ],
 "metadata": {
  "kernelspec": {
   "display_name": "Python 3",
   "language": "python",
   "name": "python3"
  },
  "language_info": {
   "codemirror_mode": {
    "name": "ipython",
    "version": 3
   },
   "file_extension": ".py",
   "mimetype": "text/x-python",
   "name": "python",
   "nbconvert_exporter": "python",
   "pygments_lexer": "ipython3",
   "version": "3.8.5"
  }
 },
 "nbformat": 4,
 "nbformat_minor": 5
}
