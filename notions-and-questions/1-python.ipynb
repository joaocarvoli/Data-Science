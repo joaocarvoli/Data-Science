{
 "cells": [
  {
   "cell_type": "code",
   "execution_count": 2,
   "id": "specialized-franchise",
   "metadata": {},
   "outputs": [],
   "source": [
    "import numpy as np\n",
    "from numpy import genfromtxt"
   ]
  },
  {
   "cell_type": "code",
   "execution_count": 21,
   "id": "active-fashion",
   "metadata": {},
   "outputs": [
    {
     "name": "stdout",
     "output_type": "stream",
     "text": [
      "[[ 5  6  1  2  3  4  3]\n",
      " [ 4  5  3  2  1  8  3]\n",
      " [ 9 10  3  7  6  5  3]\n",
      " [ 1  2  3  4  5  6  7]]\n"
     ]
    }
   ],
   "source": [
    "np_2d = np.array([[5,6,1,2,3,4,3],[4,5,3,2,1,8,3],[9,10,3,7,6,5,3],[1,2,3,4,5,6,7]])  \n",
    "print(np_2d)"
   ]
  },
  {
   "cell_type": "code",
   "execution_count": 39,
   "id": "built-kentucky",
   "metadata": {},
   "outputs": [
    {
     "name": "stdout",
     "output_type": "stream",
     "text": [
      "[4 8 5 6]\n",
      "[1 6 5]\n",
      "[3 4 5 6 7]\n"
     ]
    }
   ],
   "source": [
    "print(np_2d[:,5]) # slicing --> [all lines]][column 5]\n",
    "print(np_2d[1:,4]) # [starts on 1 to the end][column 4]"
   ]
  },
  {
   "cell_type": "markdown",
   "id": "oriented-virginia",
   "metadata": {},
   "source": [
    "#### How selects by horizontal line:"
   ]
  },
  {
   "cell_type": "code",
   "execution_count": 51,
   "id": "contrary-principle",
   "metadata": {},
   "outputs": [
    {
     "name": "stdout",
     "output_type": "stream",
     "text": [
      "[3 4 5 6 7]\n",
      "[10  3  7  6  5  3]\n"
     ]
    }
   ],
   "source": [
    "print(np_2d[3,2:]) # [stars on 3º line and 2º column to the end of line]\n",
    "print(np_2d[2,1:])"
   ]
  },
  {
   "cell_type": "markdown",
   "id": "affecting-edward",
   "metadata": {},
   "source": [
    "#### How selects by vertical line:"
   ]
  },
  {
   "cell_type": "code",
   "execution_count": 49,
   "id": "collaborative-bottle",
   "metadata": {},
   "outputs": [
    {
     "name": "stdout",
     "output_type": "stream",
     "text": [
      "[3 1 6]\n",
      "[4 8 5 6]\n"
     ]
    }
   ],
   "source": [
    "print(np_2d[:3,4]) # begins on 4º column and starts from 0 to 3 exclusive index\n",
    "print(np_2d[:4,5])"
   ]
  },
  {
   "cell_type": "code",
   "execution_count": null,
   "id": "specified-component",
   "metadata": {},
   "outputs": [],
   "source": []
  }
 ],
 "metadata": {
  "kernelspec": {
   "display_name": "Python 3",
   "language": "python",
   "name": "python3"
  },
  "language_info": {
   "codemirror_mode": {
    "name": "ipython",
    "version": 3
   },
   "file_extension": ".py",
   "mimetype": "text/x-python",
   "name": "python",
   "nbconvert_exporter": "python",
   "pygments_lexer": "ipython3",
   "version": "3.9.2"
  }
 },
 "nbformat": 4,
 "nbformat_minor": 5
}
